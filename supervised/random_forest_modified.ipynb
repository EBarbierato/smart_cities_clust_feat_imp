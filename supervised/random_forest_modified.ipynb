{
 "cells": [
  {
   "cell_type": "code",
   "execution_count": null,
   "id": "8a406024-28c1-465e-963e-3c71619ea1f7",
   "metadata": {},
   "outputs": [],
   "source": []
  },
  {
   "cell_type": "code",
   "execution_count": 9,
   "id": "54860a44-b8ce-4bb0-a47f-e72203c3efd3",
   "metadata": {},
   "outputs": [
    {
     "name": "stdout",
     "output_type": "stream",
     "text": [
      "Standard Deviation for each numeric feature:\n",
      "Id                                     29.588849\n",
      "Smart_Mobility                       1214.030137\n",
      "Smart_Environment                    1724.032171\n",
      "Smart_Government                     1153.375297\n",
      "Smart_Economy                        1801.555148\n",
      "Smart_People                         1449.096341\n",
      "Smart_Living                         2286.397477\n",
      "SmartCity_Index                       852.775180\n",
      "SmartCity_Index_relative_Edmonton     852.783238\n",
      "dtype: float64\n",
      "\n",
      "Variance for each numeric feature:\n",
      "Id                                   8.755000e+02\n",
      "Smart_Mobility                       1.473869e+06\n",
      "Smart_Environment                    2.972287e+06\n",
      "Smart_Government                     1.330275e+06\n",
      "Smart_Economy                        3.245601e+06\n",
      "Smart_People                         2.099880e+06\n",
      "Smart_Living                         5.227613e+06\n",
      "SmartCity_Index                      7.272255e+05\n",
      "SmartCity_Index_relative_Edmonton    7.272393e+05\n",
      "dtype: float64\n"
     ]
    }
   ],
   "source": [
    "import pandas as pd\n",
    "from sklearn.model_selection import GridSearchCV, train_test_split, cross_val_score\n",
    "from sklearn.ensemble import RandomForestRegressor\n",
    "from sklearn.metrics import mean_squared_error, r2_score\n",
    "import numpy as np\n",
    "from sklearn.preprocessing import RobustScaler\n",
    "\n",
    "# Load the dataset\n",
    "file_path = r'..\\Smart_City_index_headers.csv'\n",
    "data = pd.read_csv(file_path)\n",
    "\n",
    "# Select only numeric columns from the dataset\n",
    "numeric_data = data.select_dtypes(include=['number'])\n",
    "\n",
    "# Calculate the standard deviation for each numeric column\n",
    "std_devs = numeric_data.std()\n",
    "print(\"Standard Deviation for each numeric feature:\")\n",
    "print(std_devs)\n",
    "\n",
    "# Calculate the variance for each numeric column\n",
    "variances = numeric_data.var()\n",
    "print(\"\\nVariance for each numeric feature:\")\n",
    "print(variances)"
   ]
  },
  {
   "cell_type": "code",
   "execution_count": 2,
   "id": "3376dd9e-9845-4009-a278-0db67842d6ed",
   "metadata": {},
   "outputs": [],
   "source": [
    "# Apply log transformation to high-variability features\n",
    "features_to_transform = ['Smart_Living', 'Smart_Economy', 'Smart_Environment']\n",
    "for feature in features_to_transform:\n",
    "    data[feature] = np.log1p(data[feature])  # log1p ensures that zero values are also handled"
   ]
  },
  {
   "cell_type": "markdown",
   "id": "ebcd48e1-8192-4c95-bc09-81d625a9ed1f",
   "metadata": {},
   "source": [
    "# Prepare the data"
   ]
  },
  {
   "cell_type": "code",
   "execution_count": 3,
   "id": "4b64ce68-f64c-4a37-9acb-4b6dc43f79d4",
   "metadata": {},
   "outputs": [],
   "source": [
    "# Prepare the data (drop non-numeric and target columns)\n",
    "X = data.drop(columns=['Id', 'City', 'Country', 'SmartCity_Index', 'SmartCity_Index_relative_Edmonton'])\n",
    "y = data['SmartCity_Index']\n",
    "\n",
    "# Apply Standard Scaling to the features (scaling helps with kernel-based methods like RBF)\n",
    "scaler = scaler = RobustScaler()\n",
    "X_scaled = scaler.fit_transform(X)\n",
    "\n",
    "# Split the data into training and testing sets (80/20 split)\n",
    "X_train, X_test, y_train, y_test = train_test_split(X_scaled, y, test_size=0.2, random_state=42)"
   ]
  },
  {
   "cell_type": "markdown",
   "id": "76d42ddf-907e-4fa1-acc5-48e70e2961b1",
   "metadata": {},
   "source": [
    "# Fit Random Forest model"
   ]
  },
  {
   "cell_type": "code",
   "execution_count": 4,
   "id": "2b52db3b-2834-4bc0-bf28-f467a6e07b7f",
   "metadata": {},
   "outputs": [
    {
     "name": "stdout",
     "output_type": "stream",
     "text": [
      "Fitting 5 folds for each of 540 candidates, totalling 2700 fits\n",
      "Best Hyperparameters: {'max_depth': 10, 'max_features': 'sqrt', 'min_samples_leaf': 1, 'min_samples_split': 5, 'n_estimators': 200}\n",
      "R² on the test set: 0.8992303268587287\n"
     ]
    }
   ],
   "source": [
    "rf = RandomForestRegressor(random_state=42)\n",
    "\n",
    "param_grid = {\n",
    "    'n_estimators': [100, 200, 300, 400],\n",
    "    'max_depth': [None, 10, 20, 30, 40],\n",
    "    'min_samples_split': [5, 10, 15],\n",
    "    'min_samples_leaf': [1, 2, 4],\n",
    "    'max_features': ['sqrt', 'log2', None]\n",
    "}\n",
    "\n",
    "\n",
    "# Fit GridSearchCV to the training data\n",
    "grid_search = GridSearchCV(estimator=rf,\n",
    "                           param_grid=param_grid,\n",
    "                           cv=5,\n",
    "                           n_jobs=-1,\n",
    "                           verbose=2,\n",
    "                           scoring='r2',\n",
    "                           error_score='raise')\n",
    "\n",
    "# Fit GridSearchCV to the training data\n",
    "grid_search.fit(X_train, y_train)  # Ensure fit() is called before accessing best_estimator_\n",
    "\n",
    "# Step 7: Get the best parameters and evaluate the model\n",
    "print(\"Best Hyperparameters:\", grid_search.best_params_)\n",
    "best_model = grid_search.best_estimator_\n",
    "\n",
    "# Step 8: Predict on the test set and evaluate\n",
    "y_pred = best_model.predict(X_test)\n",
    "r2 = r2_score(y_test, y_pred)\n",
    "print(f\"R² on the test set: {r2}\")"
   ]
  },
  {
   "cell_type": "code",
   "execution_count": 5,
   "id": "b8611acd-b3d9-4a06-8afe-4dd7a2f561ca",
   "metadata": {},
   "outputs": [],
   "source": [
    "best_model.fit(X_train, y_train)\n",
    "\n",
    "# Make predictions on the test data\n",
    "y_pred = best_model.predict(X_test)"
   ]
  },
  {
   "cell_type": "markdown",
   "id": "9b76d93a-27d1-4e24-833a-5dc76b17dc5d",
   "metadata": {},
   "source": [
    "# Evaluate the model"
   ]
  },
  {
   "cell_type": "code",
   "execution_count": 6,
   "id": "cdd7ed78-8a3a-412b-a2cd-dff0ed0c73aa",
   "metadata": {},
   "outputs": [
    {
     "name": "stdout",
     "output_type": "stream",
     "text": [
      "Mean Squared Error (MSE): 60512.585401951445\n",
      "Root Mean Squared Error (RMSE): 245.99305966216087\n",
      "R-squared (R²): 0.8992303268587287\n",
      "Feature Importance (sorted):\n",
      "Smart_Living         0.396012\n",
      "Smart_Environment    0.201108\n",
      "Smart_Government     0.133822\n",
      "Smart_People         0.113129\n",
      "Smart_Economy        0.083616\n",
      "Smart_Mobility       0.072314\n",
      "dtype: float64\n"
     ]
    }
   ],
   "source": [
    "\n",
    "mse = mean_squared_error(y_test, y_pred)\n",
    "rmse = np.sqrt(mse)\n",
    "r2 = r2_score(y_test, y_pred)\n",
    "\n",
    "# Output the results\n",
    "print(f'Mean Squared Error (MSE): {mse}')\n",
    "print(f'Root Mean Squared Error (RMSE): {rmse}')\n",
    "print(f'R-squared (R²): {r2}')\n",
    "\n",
    "# Display feature importance\n",
    "feature_importance = pd.Series(best_model.feature_importances_, index=X.columns).sort_values(ascending=False)\n",
    "print(\"Feature Importance (sorted):\")\n",
    "print(feature_importance)"
   ]
  },
  {
   "cell_type": "code",
   "execution_count": 14,
   "id": "cd8f8b9c",
   "metadata": {},
   "outputs": [
    {
     "name": "stdout",
     "output_type": "stream",
     "text": [
      "Average R² across 5 folds: -0.06936002799162856\n"
     ]
    }
   ],
   "source": [
    "# Cross-validation (5-fold)\n",
    "cv_scores = cross_val_score(best_model, X_scaled, y, cv=12, scoring='r2')\n",
    "print(f\"Average R² across 5 folds: {np.mean(cv_scores)}\")\n"
   ]
  },
  {
   "cell_type": "code",
   "execution_count": null,
   "id": "bb167ad2-0d8d-4bb6-9d59-2db5e3a11ca8",
   "metadata": {},
   "outputs": [],
   "source": []
  }
 ],
 "metadata": {
  "kernelspec": {
   "display_name": "Python 3 (ipykernel)",
   "language": "python",
   "name": "python3"
  },
  "language_info": {
   "codemirror_mode": {
    "name": "ipython",
    "version": 3
   },
   "file_extension": ".py",
   "mimetype": "text/x-python",
   "name": "python",
   "nbconvert_exporter": "python",
   "pygments_lexer": "ipython3",
   "version": "3.12.2"
  }
 },
 "nbformat": 4,
 "nbformat_minor": 5
}
