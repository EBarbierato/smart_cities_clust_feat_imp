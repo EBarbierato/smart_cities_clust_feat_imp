{
 "cells": [
  {
   "cell_type": "code",
   "execution_count": 1,
   "id": "929c5c7a-e32d-43c8-934c-95408f8eee9f",
   "metadata": {},
   "outputs": [
    {
     "name": "stdout",
     "output_type": "stream",
     "text": [
      "Gradient Boosting feature importance (sorted):\n",
      " Smart_Living         0.674288\n",
      "Smart_Environment    0.098589\n",
      "Smart_People         0.075141\n",
      "Smart_Economy        0.065592\n",
      "Smart_Mobility       0.045892\n",
      "Smart_Government     0.040498\n",
      "dtype: float64\n",
      "Mean Squared Error (MSE): 51957.64627700136\n",
      "Root Mean Squared Error (RMSE): 227.94219942125977\n",
      "R-squared (R²): 0.9134765933773114\n"
     ]
    }
   ],
   "source": [
    "import pandas as pd\n",
    "from sklearn.ensemble import GradientBoostingRegressor\n",
    "from sklearn.model_selection import train_test_split\n",
    "from sklearn.metrics import mean_squared_error, r2_score\n",
    "import numpy as np\n",
    "\n",
    "# Load the dataset\n",
    "file_path = 'Smart_City_index_headers.csv'\n",
    "data = pd.read_csv(file_path)\n",
    "\n",
    "# Prepare the data (drop non-numeric and target columns)\n",
    "X = data.drop(columns=['Id', 'City', 'Country', 'SmartCity_Index', 'SmartCity_Index_relative_Edmonton'])\n",
    "y = data['SmartCity_Index']\n",
    "\n",
    "# Split the data into training and testing sets (80/20 split)\n",
    "X_train, X_test, y_train, y_test = train_test_split(X, y, test_size=0.2, random_state=42)\n",
    "\n",
    "# Fit the Gradient Boosting Regressor model\n",
    "gbr = GradientBoostingRegressor()\n",
    "gbr.fit(X_train, y_train)\n",
    "\n",
    "# Make predictions on the test data\n",
    "y_pred = gbr.predict(X_test)\n",
    "\n",
    "# Feature importance\n",
    "feature_importance = pd.Series(gbr.feature_importances_, index=X.columns)\n",
    "feature_importance_sorted = feature_importance.sort_values(ascending=False)\n",
    "print(\"Gradient Boosting feature importance (sorted):\\n\", feature_importance_sorted)\n",
    "\n",
    "# Evaluate the model on the test set\n",
    "mse = mean_squared_error(y_test, y_pred)\n",
    "rmse = np.sqrt(mse)\n",
    "r2 = r2_score(y_test, y_pred)\n",
    "\n",
    "# Output the results\n",
    "print(f'Mean Squared Error (MSE): {mse}')\n",
    "print(f'Root Mean Squared Error (RMSE): {rmse}')\n",
    "print(f'R-squared (R²): {r2}')\n"
   ]
  },
  {
   "cell_type": "code",
   "execution_count": null,
   "id": "f423cb46-91fb-401e-a7f9-a15840b6e4e3",
   "metadata": {},
   "outputs": [],
   "source": [
    "\n"
   ]
  }
 ],
 "metadata": {
  "kernelspec": {
   "display_name": "Python 3 (ipykernel)",
   "language": "python",
   "name": "python3"
  },
  "language_info": {
   "codemirror_mode": {
    "name": "ipython",
    "version": 3
   },
   "file_extension": ".py",
   "mimetype": "text/x-python",
   "name": "python",
   "nbconvert_exporter": "python",
   "pygments_lexer": "ipython3",
   "version": "3.12.2"
  }
 },
 "nbformat": 4,
 "nbformat_minor": 5
}
