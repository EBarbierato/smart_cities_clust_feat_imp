{
 "cells": [
  {
   "cell_type": "markdown",
   "id": "f0bbb4c2-d847-4046-99eb-4a46a4c390bd",
   "metadata": {},
   "source": [
    "# SVM"
   ]
  },
  {
   "cell_type": "code",
   "execution_count": 1,
   "id": "a7b037ee-77db-4920-a104-c09268d7dfb1",
   "metadata": {},
   "outputs": [],
   "source": [
    "import pandas as pd\n",
    "from sklearn.svm import SVR\n",
    "from sklearn.model_selection import train_test_split, cross_val_score\n",
    "from sklearn.metrics import mean_squared_error, r2_score\n",
    "from sklearn.preprocessing import StandardScaler\n",
    "import numpy as np\n",
    "\n",
    "# Load the dataset\n",
    "file_path = r'..\\Smart_City_index_headers.csv'\n",
    "data = pd.read_csv(file_path)"
   ]
  },
  {
   "cell_type": "code",
   "execution_count": 2,
   "id": "53d44c18-4804-4ee2-acf5-c85684b0995e",
   "metadata": {},
   "outputs": [],
   "source": [
    "# Prepare the data (drop non-numeric and target columns)\n",
    "X = data.drop(columns=['Id', 'City', 'Country', 'SmartCity_Index', 'SmartCity_Index_relative_Edmonton'])\n",
    "y = data['SmartCity_Index']\n",
    "\n",
    "# Apply Standard Scaling to the features (scaling helps with kernel-based methods like RBF)\n",
    "scaler = StandardScaler()\n",
    "X_scaled = scaler.fit_transform(X)"
   ]
  },
  {
   "cell_type": "code",
   "execution_count": 3,
   "id": "1301c553-ea52-45d7-a962-4c19653d1247",
   "metadata": {},
   "outputs": [],
   "source": [
    "# Split the data into training and testing sets (80/20 split)\n",
    "X_train, X_test, y_train, y_test = train_test_split(X_scaled, y, test_size=0.2, random_state=42)\n",
    "\n",
    "# Fit SVR model with RBF kernel and increased regularization\n",
    "svr = SVR(kernel='linear', C=8)  # Increased C to capture more complexity\n",
    "svr.fit(X_train, y_train)\n",
    "\n",
    "# Make predictions on the test data\n",
    "y_pred = svr.predict(X_test)"
   ]
  },
  {
   "cell_type": "code",
   "execution_count": 4,
   "id": "3a71735c-7c2f-4e35-9dee-6f70f575a145",
   "metadata": {},
   "outputs": [
    {
     "name": "stdout",
     "output_type": "stream",
     "text": [
      "Smart_Living         0.259014\n",
      "Smart_Mobility       0.170147\n",
      "Smart_Environment    0.163159\n",
      "Smart_Economy        0.149919\n",
      "Smart_People         0.137956\n",
      "Smart_Government     0.119805\n",
      "dtype: float64\n"
     ]
    }
   ],
   "source": [
    "# Calculate the absolute value of coefficients (since negative values indicate importance as well)\n",
    "coefficients = np.abs(svr.coef_[0])\n",
    "# Normalize the coefficients to sum to 1, similar to Random Forest feature_importances_\n",
    "normalized_importance = coefficients / np.sum(coefficients)\n",
    "\n",
    "# Create a pandas series for feature importance with the feature names\n",
    "feature_importance = pd.Series(normalized_importance, index=X.columns).sort_values(ascending=False)\n",
    "\n",
    "# Output the feature importance\n",
    "print(feature_importance)\n"
   ]
  },
  {
   "cell_type": "code",
   "execution_count": 5,
   "id": "5e024fbb-6dd3-4fee-8667-6567e548d1ad",
   "metadata": {},
   "outputs": [
    {
     "name": "stdout",
     "output_type": "stream",
     "text": [
      "Mean Squared Error (MSE): 8990.17523063486\n",
      "Root Mean Squared Error (RMSE): 94.81653458461167\n",
      "R-squared (R²): 0.9850289487144502\n",
      "Average R² across 5 folds: 0.7472900119408649\n"
     ]
    }
   ],
   "source": [
    "# Evaluate the model on the test data\n",
    "mse = mean_squared_error(y_test, y_pred)\n",
    "rmse = np.sqrt(mse)\n",
    "r2 = r2_score(y_test, y_pred)\n",
    "\n",
    "# Output the results\n",
    "print(f'Mean Squared Error (MSE): {mse}')\n",
    "print(f'Root Mean Squared Error (RMSE): {rmse}')\n",
    "print(f'R-squared (R²): {r2}')\n",
    "\n",
    "# Cross-validation (5-fold)\n",
    "cv_scores = cross_val_score(svr, X_scaled, y, cv=5, scoring='r2')\n",
    "print(f\"Average R² across 5 folds: {np.mean(cv_scores)}\")\n"
   ]
  }
 ],
 "metadata": {
  "kernelspec": {
   "display_name": "Python 3 (ipykernel)",
   "language": "python",
   "name": "python3"
  },
  "language_info": {
   "codemirror_mode": {
    "name": "ipython",
    "version": 3
   },
   "file_extension": ".py",
   "mimetype": "text/x-python",
   "name": "python",
   "nbconvert_exporter": "python",
   "pygments_lexer": "ipython3",
   "version": "3.12.2"
  }
 },
 "nbformat": 4,
 "nbformat_minor": 5
}
