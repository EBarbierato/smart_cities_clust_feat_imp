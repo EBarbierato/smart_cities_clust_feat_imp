{
 "cells": [
  {
   "cell_type": "code",
   "execution_count": null,
   "id": "bbb4993b-9acb-4cc4-8511-faaf81cbfb83",
   "metadata": {},
   "outputs": [],
   "source": [
    "import numpy as np\n",
    "import pandas as pd\n",
    "\n",
    "# Provided feature importances\n",
    "feature_importances = {\n",
    "    \"Random Forest\": {\n",
    "        \"Smart_Living\": 0.669512,\n",
    "        \"Smart_People\": 0.129722,\n",
    "        \"Smart_Environment\": 0.096507,\n",
    "        \"Smart_Economy\": 0.047134,\n",
    "        \"Smart_Government\": 0.029803,\n",
    "        \"Smart_Mobility\": 0.027322\n",
    "    },\n",
    "    \"Linear SVM\": {\n",
    "        \"Smart_Mobility\": 0.236879,\n",
    "        \"Smart_Living\": 0.197311,\n",
    "        \"Smart_Environment\": 0.158450,\n",
    "        \"Smart_Economy\": 0.145445,\n",
    "        \"Smart_People\": 0.133783,\n",
    "        \"Smart_Government\": 0.120591\n",
    "    },\n",
    "    \"Gradient Boosting\": {\n",
    "        \"Smart_Living\": 0.673307,\n",
    "        \"Smart_People\": 0.121075,\n",
    "        \"Smart_Environment\": 0.100918,\n",
    "        \"Smart_Economy\": 0.043147,\n",
    "        \"Smart_Government\": 0.034103,\n",
    "        \"Smart_Mobility\": 0.027450\n",
    "    },\n",
    "    \"Lasso\": {\n",
    "        \"Smart_Mobility\": 0.240519,\n",
    "        \"Smart_Living\": 0.189875,\n",
    "        \"Smart_Environment\": 0.164574,\n",
    "        \"Smart_Economy\": 0.139208,\n",
    "        \"Smart_People\": 0.134995,\n",
    "        \"Smart_Government\": 0.130808\n",
    "    }\n",
    "}\n",
    "\n",
    "# Convert to DataFrame\n",
    "df_feature_importances = pd.DataFrame(feature_importances)\n",
    "\n",
    "# Calculate the average importance for each feature\n",
    "df_feature_importances['Average'] = df_feature_importances.mean(axis=1)\n",
    "\n",
    "# Sort the features by their average importance\n",
    "df_feature_importances_sorted = df_feature_importances['Average'].sort_values(ascending=False)\n",
    "\n",
    "df_feature_importances_sorted\n"
   ]
  }
 ],
 "metadata": {
  "kernelspec": {
   "display_name": "Python 3 (ipykernel)",
   "language": "python",
   "name": "python3"
  },
  "language_info": {
   "codemirror_mode": {
    "name": "ipython",
    "version": 3
   },
   "file_extension": ".py",
   "mimetype": "text/x-python",
   "name": "python",
   "nbconvert_exporter": "python",
   "pygments_lexer": "ipython3",
   "version": "3.12.2"
  }
 },
 "nbformat": 4,
 "nbformat_minor": 5
}
