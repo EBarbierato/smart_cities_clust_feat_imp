{
 "cells": [
  {
   "cell_type": "markdown",
   "id": "6d153120-d0cb-4648-a640-8cdd2b56d986",
   "metadata": {},
   "source": [
    "# Gradient Boost"
   ]
  },
  {
   "cell_type": "code",
   "execution_count": 1,
   "id": "929c5c7a-e32d-43c8-934c-95408f8eee9f",
   "metadata": {},
   "outputs": [],
   "source": [
    "import pandas as pd\n",
    "from sklearn.ensemble import GradientBoostingRegressor\n",
    "from sklearn.model_selection import train_test_split,cross_val_score\n",
    "from sklearn.metrics import mean_squared_error, r2_score\n",
    "import numpy as np\n",
    "from sklearn.preprocessing import StandardScaler\n",
    "\n"
   ]
  },
  {
   "cell_type": "code",
   "execution_count": 2,
   "id": "adcedd49-3d78-43d1-9092-0774fa6dda06",
   "metadata": {},
   "outputs": [],
   "source": [
    "# Load the dataset\n",
    "file_path = r'..\\Smart_City_index_headers.csv'\n",
    "data = pd.read_csv(file_path)\n",
    "\n",
    "# Prepare the data (drop non-numeric and target columns)\n",
    "X = data.drop(columns=['Id', 'City', 'Country', 'SmartCity_Index', 'SmartCity_Index_relative_Edmonton'])\n",
    "y = data['SmartCity_Index']\n",
    "\n",
    "# Apply Standard Scaling to the features (scaling helps with kernel-based methods like RBF)\n",
    "scaler = StandardScaler()\n",
    "X_scaled = scaler.fit_transform(X)\n"
   ]
  },
  {
   "cell_type": "code",
   "execution_count": 3,
   "id": "dfb27ffd-6393-45a1-8847-742fbf479579",
   "metadata": {},
   "outputs": [],
   "source": [
    "# Split the data into training and testing sets (80/20 split)\n",
    "X_train, X_test, y_train, y_test = train_test_split(X_scaled, y, test_size=0.2, random_state=42)\n",
    "\n",
    "# Fit the Gradient Boosting Regressor model\n",
    "gbr = GradientBoostingRegressor()\n",
    "gbr.fit(X_train, y_train)\n",
    "\n",
    "# Make predictions on the test data\n",
    "y_pred = gbr.predict(X_test)\n",
    "\n"
   ]
  },
  {
   "cell_type": "code",
   "execution_count": 4,
   "id": "f423cb46-91fb-401e-a7f9-a15840b6e4e3",
   "metadata": {},
   "outputs": [
    {
     "name": "stdout",
     "output_type": "stream",
     "text": [
      "Gradient Boosting feature importance (sorted):\n",
      " Smart_Living         0.673256\n",
      "Smart_Environment    0.107818\n",
      "Smart_People         0.069775\n",
      "Smart_Economy        0.065915\n",
      "Smart_Mobility       0.042582\n",
      "Smart_Government     0.040653\n",
      "dtype: float64\n"
     ]
    }
   ],
   "source": [
    "# Feature importance\n",
    "feature_importance = pd.Series(gbr.feature_importances_, index=X.columns)\n",
    "feature_importance_sorted = feature_importance.sort_values(ascending=False)\n",
    "print(\"Gradient Boosting feature importance (sorted):\\n\", feature_importance_sorted)\n",
    "\n"
   ]
  },
  {
   "cell_type": "code",
   "execution_count": 5,
   "id": "1eca830b-b24e-4028-ad04-0b0df28ca995",
   "metadata": {},
   "outputs": [
    {
     "name": "stdout",
     "output_type": "stream",
     "text": [
      "Mean Squared Error (MSE): 52320.73501414841\n",
      "Root Mean Squared Error (RMSE): 228.73726197134653\n",
      "R-squared (R²): 0.912871953315735\n"
     ]
    }
   ],
   "source": [
    "# Evaluate the model on the test set\n",
    "mse = mean_squared_error(y_test, y_pred)\n",
    "rmse = np.sqrt(mse)\n",
    "r2 = r2_score(y_test, y_pred)\n",
    "\n",
    "# Output the results\n",
    "print(f'Mean Squared Error (MSE): {mse}')\n",
    "print(f'Root Mean Squared Error (RMSE): {rmse}')\n",
    "print(f'R-squared (R²): {r2}')\n"
   ]
  },
  {
   "cell_type": "code",
   "execution_count": 6,
   "id": "af2340d6-364b-464e-aba4-9ef781dea23b",
   "metadata": {},
   "outputs": [
    {
     "name": "stdout",
     "output_type": "stream",
     "text": [
      "Average R² across 5 folds: 0.20106576630478318\n"
     ]
    }
   ],
   "source": [
    "# Cross-validation (5-fold)\n",
    "cv_scores = cross_val_score(gbr, X_scaled, y, cv=5, scoring='r2')\n",
    "print(f\"Average R² across 5 folds: {np.mean(cv_scores)}\")"
   ]
  },
  {
   "cell_type": "code",
   "execution_count": null,
   "id": "ffc0bd88-997d-4d7c-93ff-d0d7d7b5d9d1",
   "metadata": {},
   "outputs": [],
   "source": []
  }
 ],
 "metadata": {
  "kernelspec": {
   "display_name": "Python 3 (ipykernel)",
   "language": "python",
   "name": "python3"
  },
  "language_info": {
   "codemirror_mode": {
    "name": "ipython",
    "version": 3
   },
   "file_extension": ".py",
   "mimetype": "text/x-python",
   "name": "python",
   "nbconvert_exporter": "python",
   "pygments_lexer": "ipython3",
   "version": "3.12.2"
  }
 },
 "nbformat": 4,
 "nbformat_minor": 5
}
