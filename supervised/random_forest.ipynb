{
 "cells": [
  {
   "cell_type": "markdown",
   "id": "dc0e7d22-6f43-4905-8612-beab8a25aa5f",
   "metadata": {},
   "source": [
    "# Random Forest"
   ]
  },
  {
   "cell_type": "code",
   "execution_count": 1,
   "id": "54860a44-b8ce-4bb0-a47f-e72203c3efd3",
   "metadata": {},
   "outputs": [],
   "source": [
    "import pandas as pd\n",
    "from sklearn.model_selection import train_test_split\n",
    "from sklearn.ensemble import RandomForestRegressor\n",
    "from sklearn.metrics import mean_squared_error, r2_score\n",
    "import numpy as np\n",
    "\n",
    "# Load the dataset\n",
    "file_path = 'Smart_City_index_headers.csv'\n",
    "data = pd.read_csv(file_path)"
   ]
  },
  {
   "cell_type": "markdown",
   "id": "ebcd48e1-8192-4c95-bc09-81d625a9ed1f",
   "metadata": {},
   "source": [
    "# Prepare the data"
   ]
  },
  {
   "cell_type": "code",
   "execution_count": 2,
   "id": "4b64ce68-f64c-4a37-9acb-4b6dc43f79d4",
   "metadata": {},
   "outputs": [],
   "source": [
    "\n",
    "X = data.drop(columns=['SmartCity_Index'])\n",
    "y = data['SmartCity_Index']\n",
    "\n",
    "# Drop non-numeric columns that are not useful for modeling\n",
    "X = data.drop(columns=['Id', 'City', 'Country', 'SmartCity_Index', 'SmartCity_Index_relative_Edmonton'])\n",
    "y = data['SmartCity_Index']\n",
    "\n",
    "# Split the data into training and testing sets (80/20 split)\n",
    "X_train, X_test, y_train, y_test = train_test_split(X, y, test_size=0.2, random_state=42)"
   ]
  },
  {
   "cell_type": "markdown",
   "id": "76d42ddf-907e-4fa1-acc5-48e70e2961b1",
   "metadata": {},
   "source": [
    "# Fit Random Forest model"
   ]
  },
  {
   "cell_type": "code",
   "execution_count": 3,
   "id": "b8611acd-b3d9-4a06-8afe-4dd7a2f561ca",
   "metadata": {},
   "outputs": [],
   "source": [
    "rf = RandomForestRegressor(n_estimators=100, random_state=42)\n",
    "rf.fit(X_train, y_train)\n",
    "\n",
    "# Make predictions on the test data\n",
    "y_pred = rf.predict(X_test)"
   ]
  },
  {
   "cell_type": "markdown",
   "id": "9b76d93a-27d1-4e24-833a-5dc76b17dc5d",
   "metadata": {},
   "source": [
    "# Evaluate the model"
   ]
  },
  {
   "cell_type": "code",
   "execution_count": 4,
   "id": "cdd7ed78-8a3a-412b-a2cd-dff0ed0c73aa",
   "metadata": {},
   "outputs": [
    {
     "name": "stdout",
     "output_type": "stream",
     "text": [
      "Mean Squared Error (MSE): 64195.54439047616\n",
      "Root Mean Squared Error (RMSE): 253.36839658978025\n",
      "R-squared (R²): 0.8930972130444514\n",
      "Feature Importance (sorted):\n",
      "Smart_Living         0.680798\n",
      "Smart_Environment    0.117973\n",
      "Smart_People         0.085488\n",
      "Smart_Economy        0.048494\n",
      "Smart_Government     0.035911\n",
      "Smart_Mobility       0.031337\n",
      "dtype: float64\n"
     ]
    }
   ],
   "source": [
    "\n",
    "mse = mean_squared_error(y_test, y_pred)\n",
    "rmse = np.sqrt(mse)\n",
    "r2 = r2_score(y_test, y_pred)\n",
    "\n",
    "# Output the results\n",
    "print(f'Mean Squared Error (MSE): {mse}')\n",
    "print(f'Root Mean Squared Error (RMSE): {rmse}')\n",
    "print(f'R-squared (R²): {r2}')\n",
    "\n",
    "# Display feature importance\n",
    "feature_importance = pd.Series(rf.feature_importances_, index=X.columns).sort_values(ascending=False)\n",
    "print(\"Feature Importance (sorted):\")\n",
    "print(feature_importance)"
   ]
  },
  {
   "cell_type": "code",
   "execution_count": null,
   "id": "80e53843-0683-4cae-8298-6634cb1af319",
   "metadata": {},
   "outputs": [],
   "source": []
  },
  {
   "cell_type": "code",
   "execution_count": null,
   "id": "91833daf-044b-4782-b292-d66b32c9068f",
   "metadata": {},
   "outputs": [],
   "source": []
  }
 ],
 "metadata": {
  "kernelspec": {
   "display_name": "Python 3 (ipykernel)",
   "language": "python",
   "name": "python3"
  },
  "language_info": {
   "codemirror_mode": {
    "name": "ipython",
    "version": 3
   },
   "file_extension": ".py",
   "mimetype": "text/x-python",
   "name": "python",
   "nbconvert_exporter": "python",
   "pygments_lexer": "ipython3",
   "version": "3.12.2"
  }
 },
 "nbformat": 4,
 "nbformat_minor": 5
}
